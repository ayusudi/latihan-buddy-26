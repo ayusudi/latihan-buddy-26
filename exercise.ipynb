{
 "cells": [
  {
   "cell_type": "markdown",
   "metadata": {},
   "source": [
    "Nama : Ayu Sudi\n",
    "Batch : RMT-026  \n",
    "\n",
    "Untuk menguji kemampuan dalam bahasa programman Phyton meliputi conditional, loop dan function hingga testing dengan tema soal Eras Tour Movie."
   ]
  },
  {
   "cell_type": "markdown",
   "metadata": {},
   "source": [
    "# Answer"
   ]
  },
  {
   "cell_type": "code",
   "execution_count": null,
   "metadata": {},
   "outputs": [],
   "source": [
    "# 1. Pahami soalnya \n",
    "# 1.1. Input, Process, Output "
   ]
  },
  {
   "cell_type": "markdown",
   "metadata": {},
   "source": [
    "## Soal 1 Menentukan Guardian Berdasarkan Umur"
   ]
  },
  {
   "cell_type": "code",
   "execution_count": 14,
   "metadata": {},
   "outputs": [
    {
     "name": "stdout",
     "output_type": "stream",
     "text": [
      "True\n",
      "True\n",
      "False\n",
      "False\n"
     ]
    }
   ],
   "source": [
    "from datetime import date\n",
    " \n",
    "def calculateAge(birthDate):\n",
    "    '''\n",
    "    Calculate age with input year, month and date\n",
    "    '''\n",
    "    today = date.today()\n",
    "    age = today.year - birthDate.year - ((today.month, today.day) < (birthDate.month, birthDate.day))\n",
    "    return age\n",
    "\n",
    "\n",
    "def checkNeedGuardian(inputDateStr):\n",
    "    '''\n",
    "    Menentukan status guardian (True / False) berdasarkan umur dari tanggal lahir.\n",
    "    '''\n",
    "    tanggalList = inputDateStr.split(\"-\")\n",
    "    tahun = int(tanggalList[0])\n",
    "    bulan = int(tanggalList[1])\n",
    "    tanggal = int(tanggalList[2])\n",
    "    # Calculate age \n",
    "    age = calculateAge(date(tahun, bulan, tanggal))\n",
    "    # Conditional for age \n",
    "    if age < 17 : \n",
    "        return True \n",
    "    return False\n",
    "\n",
    "print(checkNeedGuardian(\"2010-01-02\"))\n",
    "print(checkNeedGuardian(\"2006-12-30\"))\n",
    "print(checkNeedGuardian(\"2000-01-01\"))\n",
    "print(checkNeedGuardian(\"2006-09-30\"))"
   ]
  },
  {
   "cell_type": "markdown",
   "metadata": {},
   "source": [
    "## Soal 2 Menghitung biaya ticket"
   ]
  },
  {
   "cell_type": "code",
   "execution_count": 29,
   "metadata": {},
   "outputs": [
    {
     "name": "stdout",
     "output_type": "stream",
     "text": [
      "380000\n"
     ]
    }
   ],
   "source": [
    "def totalTicketByCategoryAndAge(input):\n",
    "  '''\n",
    "  This function for calculate total price from data input. \n",
    "  Input :\n",
    "  {\n",
    "    \"birthdate\" : [\"2010-01-02\", \"2000-01-01\"],\n",
    "    \"category\": [\"VIP\", \"VIP\"]\n",
    "  }\n",
    "  Output :\n",
    "  38000\n",
    "  '''\n",
    "  result = 0 \n",
    "  # Looping data input about birthdate and category\n",
    "  for (i, element) in enumerate(input['birthdate']):\n",
    "    categoryTicket = input[\"category\"][i]\n",
    "    # Conditional for price by category\n",
    "    if categoryTicket == 'Regular':\n",
    "      result += 100000\n",
    "    else : \n",
    "      under17 = checkNeedGuardian(element)\n",
    "      if under17 == True : \n",
    "        result += 180000\n",
    "      else :\n",
    "        result += 200000\n",
    "  return result     \n",
    "\n",
    "data = {\n",
    "  \"birthdate\" : [\"2010-01-02\", \"2000-01-01\"],\n",
    "  \"category\": [\"VIP\", \"VIP\"]\n",
    "}\n",
    "print(totalTicketByCategoryAndAge(data))"
   ]
  },
  {
   "cell_type": "markdown",
   "metadata": {},
   "source": [
    "## Unit Test"
   ]
  },
  {
   "cell_type": "code",
   "execution_count": null,
   "metadata": {},
   "outputs": [],
   "source": [
    "# 1. import unittest \n",
    "# 2. class TestExercise(unittest.TestCase)\n",
    "# 3. membuat method dengan keyword \"test\" (self)\n",
    "#    3.1  Input, Process, Output \n",
    "#    3.2  self.assertEqual(output, expectedValue)\n",
    "#    3.3  Buat lagi beberapa method test\n",
    "# 4. Panggil unittest.main(argv=[\"\"], exit=False)"
   ]
  },
  {
   "cell_type": "code",
   "execution_count": 35,
   "metadata": {},
   "outputs": [
    {
     "name": "stderr",
     "output_type": "stream",
     "text": [
      "...\n",
      "----------------------------------------------------------------------\n",
      "Ran 3 tests in 0.002s\n",
      "\n",
      "OK\n"
     ]
    },
    {
     "data": {
      "text/plain": [
       "<unittest.main.TestProgram at 0x10cbb1b10>"
      ]
     },
     "execution_count": 35,
     "metadata": {},
     "output_type": "execute_result"
    }
   ],
   "source": [
    "import unittest\n",
    "\n",
    "class TestExercise(unittest.TestCase): \n",
    "  def test_totalTicketByCategoryAndAge1(self):\n",
    "    data = {\n",
    "      \"birthdate\" : [\"2010-01-02\", \"2000-01-01\"],\n",
    "      \"category\": [\"VIP\", \"VIP\"]\n",
    "    }\n",
    "    result = totalTicketByCategoryAndAge(data)\n",
    "    self.assertEqual(result, 380000)\n",
    "\n",
    "  def test_totalTicketByCategoryAndAge2(self):\n",
    "    data = {\n",
    "      \"birthdate\" : [\"2010-01-02\", \"2000-01-01\"],\n",
    "      \"category\": [\"Regular\", \"Regular\"]\n",
    "    }\n",
    "    result = totalTicketByCategoryAndAge(data)\n",
    "    self.assertEqual(result, 200000)\n",
    "\n",
    "  def test_totalTicketByCategoryAndAge3(self):\n",
    "    data = {\n",
    "      \"birthdate\" : [],\n",
    "      \"category\": []\n",
    "    }\n",
    "    result = totalTicketByCategoryAndAge(data)\n",
    "    self.assertEqual(result, 0)\n",
    "\n",
    "unittest.main(argv=[\"\"], exit=False)"
   ]
  }
 ],
 "metadata": {
  "kernelspec": {
   "display_name": "Python 3",
   "language": "python",
   "name": "python3"
  },
  "language_info": {
   "codemirror_mode": {
    "name": "ipython",
    "version": 3
   },
   "file_extension": ".py",
   "mimetype": "text/x-python",
   "name": "python",
   "nbconvert_exporter": "python",
   "pygments_lexer": "ipython3",
   "version": "3.11.5"
  }
 },
 "nbformat": 4,
 "nbformat_minor": 2
}
